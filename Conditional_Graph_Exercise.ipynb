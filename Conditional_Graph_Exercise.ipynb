{
  "nbformat": 4,
  "nbformat_minor": 0,
  "metadata": {
    "colab": {
      "provenance": [],
      "authorship_tag": "ABX9TyP5dt27J3Av+9qiUTs4WViT",
      "include_colab_link": true
    },
    "kernelspec": {
      "name": "python3",
      "display_name": "Python 3"
    },
    "language_info": {
      "name": "python"
    }
  },
  "cells": [
    {
      "cell_type": "markdown",
      "metadata": {
        "id": "view-in-github",
        "colab_type": "text"
      },
      "source": [
        "<a href=\"https://colab.research.google.com/github/Ashish265/langGraph-projects/blob/main/Conditional_Graph_Exercise.ipynb\" target=\"_parent\"><img src=\"https://colab.research.google.com/assets/colab-badge.svg\" alt=\"Open In Colab\"/></a>"
      ]
    },
    {
      "cell_type": "code",
      "execution_count": 1,
      "metadata": {
        "colab": {
          "base_uri": "https://localhost:8080/"
        },
        "id": "055o5UYB2P-Z",
        "outputId": "0652ec81-c18c-4f8e-ea61-7614469b672e"
      },
      "outputs": [
        {
          "output_type": "stream",
          "name": "stdout",
          "text": [
            "\u001b[2K     \u001b[90m━━━━━━━━━━━━━━━━━━━━━━━━━━━━━━━━━━━━━━━━\u001b[0m \u001b[32m43.7/43.7 kB\u001b[0m \u001b[31m1.1 MB/s\u001b[0m eta \u001b[36m0:00:00\u001b[0m\n",
            "\u001b[2K   \u001b[90m━━━━━━━━━━━━━━━━━━━━━━━━━━━━━━━━━━━━━━━━\u001b[0m \u001b[32m153.3/153.3 kB\u001b[0m \u001b[31m3.9 MB/s\u001b[0m eta \u001b[36m0:00:00\u001b[0m\n",
            "\u001b[2K   \u001b[90m━━━━━━━━━━━━━━━━━━━━━━━━━━━━━━━━━━━━━━━━\u001b[0m \u001b[32m43.9/43.9 kB\u001b[0m \u001b[31m3.2 MB/s\u001b[0m eta \u001b[36m0:00:00\u001b[0m\n",
            "\u001b[2K   \u001b[90m━━━━━━━━━━━━━━━━━━━━━━━━━━━━━━━━━━━━━━━━\u001b[0m \u001b[32m54.6/54.6 kB\u001b[0m \u001b[31m4.2 MB/s\u001b[0m eta \u001b[36m0:00:00\u001b[0m\n",
            "\u001b[2K   \u001b[90m━━━━━━━━━━━━━━━━━━━━━━━━━━━━━━━━━━━━━━━━\u001b[0m \u001b[32m216.7/216.7 kB\u001b[0m \u001b[31m11.6 MB/s\u001b[0m eta \u001b[36m0:00:00\u001b[0m\n",
            "\u001b[?25h"
          ]
        }
      ],
      "source": [
        "!pip install -q langgraph"
      ]
    },
    {
      "cell_type": "code",
      "source": [
        "from typing import TypedDict\n",
        "from langgraph.graph import StateGraph,START,END"
      ],
      "metadata": {
        "id": "yLyCkepW2YLU"
      },
      "execution_count": 19,
      "outputs": []
    },
    {
      "cell_type": "code",
      "source": [
        "class Agentstate(TypedDict):\n",
        "  number1:int\n",
        "  operation: str\n",
        "  number2: int\n",
        "  finalNumber : int\n",
        "  number3:int\n",
        "  number4:int\n",
        "  operation2:str\n",
        "  finalNumber2:int"
      ],
      "metadata": {
        "id": "hT-3XnD02pIq"
      },
      "execution_count": 20,
      "outputs": []
    },
    {
      "cell_type": "code",
      "source": [
        "def adder(state:Agentstate) -> Agentstate:\n",
        "  \"\"\" This node adds the 2 numbers \"\"\"\n",
        "  state[\"finalNumber\"] = state['number1'] + state['number2']\n",
        "\n",
        "  return state\n",
        "\n",
        "def subtractor(state:Agentstate) -> Agentstate:\n",
        "  \"\"\" This node subtracts the 2 numbers \"\"\"\n",
        "  state[\"finalNumber\"] = state['number1'] - state['number2']\n",
        "\n",
        "  return state\n",
        "\n",
        "def decide_next_node(state:Agentstate) -> Agentstate:\n",
        "  \"\"\" This node will select the next phase of the graph\"\"\"\n",
        "  if state['operation'] == '+':\n",
        "    return \"addition_operation\"\n",
        "  elif state['operation'] == '-':\n",
        "    return \"subtraction_operation\"\n",
        "\n",
        "def adder2(state:Agentstate) -> Agentstate:\n",
        "  \"\"\" This node adds the 2 numbers \"\"\"\n",
        "  state[\"finalNumber2\"] = state['number3'] + state['number4']\n",
        "\n",
        "  return state\n",
        "\n",
        "def subtractor2(state:Agentstate) -> Agentstate:\n",
        "  \"\"\" This node subtracts the 2 numbers \"\"\"\n",
        "  state[\"finalNumber2\"] = state['number3'] - state['number4']\n",
        "\n",
        "  return state\n",
        "\n",
        "def decide_next_node2(state:Agentstate) -> Agentstate:\n",
        "  \"\"\" This node will select the next phase of the graph\"\"\"\n",
        "  if state['operation2'] == '+':\n",
        "    return \"addition_operation2\"\n",
        "  elif state['operation2'] == '-':\n",
        "    return \"subtraction_operation2\""
      ],
      "metadata": {
        "id": "skBG9TFN23ax"
      },
      "execution_count": 21,
      "outputs": []
    },
    {
      "cell_type": "code",
      "source": [
        "graph = StateGraph(Agentstate)"
      ],
      "metadata": {
        "id": "TM5lg1BC4pUR"
      },
      "execution_count": 22,
      "outputs": []
    },
    {
      "cell_type": "code",
      "source": [
        "graph.add_node(\"add_node\", adder)\n",
        "graph.add_node(\"subtract_node\",subtractor)\n",
        "graph.add_node(\"add_node2\", adder2)\n",
        "graph.add_node(\"subtract_node2\",subtractor2)\n",
        "graph.add_node(\"router1\",lambda state:state)\n",
        "graph.add_node(\"router2\",lambda state:state)\n",
        "\n",
        "graph.add_edge(START,\"router1\")\n",
        "graph.add_conditional_edges(\"router1\",\n",
        "                            decide_next_node,\n",
        "                            {\n",
        "                                \"addition_operation\":\"add_node\",\n",
        "                                \"subtraction_operation\":\"subtract_node\"\n",
        "                             }\n",
        "                            )\n",
        "\n",
        "\n",
        "graph.add_edge(\"add_node\",\"router2\")\n",
        "graph.add_edge(\"subtract_node\",\"router2\")\n",
        "\n",
        "\n",
        "graph.add_conditional_edges(\"router2\",\n",
        "                            decide_next_node2,\n",
        "                            {\n",
        "                                \"addition_operation2\":\"add_node2\",\n",
        "                                \"subtraction_operation2\":\"subtract_node2\"\n",
        "                             }\n",
        "                            )\n",
        "\n",
        "graph.add_edge(\"add_node2\",END)\n",
        "graph.add_edge(\"subtract_node2\",END)\n",
        "\n",
        "app= graph.compile()"
      ],
      "metadata": {
        "id": "xd_RgGPi4ugh"
      },
      "execution_count": 23,
      "outputs": []
    },
    {
      "cell_type": "code",
      "source": [
        "from IPython.display import Image, display\n",
        "display(Image(app.get_graph().draw_mermaid_png()))"
      ],
      "metadata": {
        "colab": {
          "base_uri": "https://localhost:8080/",
          "height": 596
        },
        "id": "aKi6ECXs6i3H",
        "outputId": "4838276e-e685-41dc-8baa-7b3444f8cc4a"
      },
      "execution_count": 24,
      "outputs": [
        {
          "output_type": "display_data",
          "data": {
            "image/png": "[encoded data removed]",
            "text/plain": [
              "<IPython.core.display.Image object>"
            ]
          },
          "metadata": {}
        }
      ]
    },
    {
      "cell_type": "code",
      "source": [
        "initial_state1 = Agentstate(number1=10,operation=\"-\",number2=5,number3=7,number4=2,operation2=\"+\")"
      ],
      "metadata": {
        "id": "RPnVIaYL6laF"
      },
      "execution_count": 25,
      "outputs": []
    },
    {
      "cell_type": "code",
      "source": [
        "print(app.invoke(initial_state1))"
      ],
      "metadata": {
        "colab": {
          "base_uri": "https://localhost:8080/"
        },
        "id": "gd-cjRvm65dF",
        "outputId": "32cc146c-7e7d-4008-d859-0422af0e06e2"
      },
      "execution_count": 26,
      "outputs": [
        {
          "output_type": "stream",
          "name": "stdout",
          "text": [
            "{'number1': 10, 'operation': '-', 'number2': 5, 'finalNumber': 5, 'number3': 7, 'number4': 2, 'operation2': '+', 'finalNumber2': 9}\n"
          ]
        }
      ]
    },
    {
      "cell_type": "code",
      "source": [],
      "metadata": {
        "id": "27AK-X559qcT"
      },
      "execution_count": null,
      "outputs": []
    }
  ]
}